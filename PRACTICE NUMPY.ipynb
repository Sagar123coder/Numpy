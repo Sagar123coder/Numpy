{
 "cells": [
  {
   "cell_type": "markdown",
   "metadata": {},
   "source": [
    "# NUMPY"
   ]
  },
  {
   "cell_type": "code",
   "execution_count": 1,
   "metadata": {},
   "outputs": [],
   "source": [
    "import numpy as np\n",
    "import pandas as pd"
   ]
  },
  {
   "cell_type": "code",
   "execution_count": 3,
   "metadata": {},
   "outputs": [
    {
     "name": "stdout",
     "output_type": "stream",
     "text": [
      "[[1.+0.j 2.+0.j 3.+0.j]\n",
      " [2.+0.j 4.+0.j 5.+0.j]\n",
      " [4.+0.j 5.+0.j 6.+0.j]]\n"
     ]
    }
   ],
   "source": [
    "a= np.array([[1,2,3],[2,4,5],[4,5,6]],dtype=np.complex, ndmin=0,)\n",
    "print(a)"
   ]
  },
  {
   "cell_type": "code",
   "execution_count": 4,
   "metadata": {},
   "outputs": [
    {
     "name": "stdout",
     "output_type": "stream",
     "text": [
      "[(b'Sagar', 24, 50.) (b'Mayuri', 21, 45.)]\n"
     ]
    }
   ],
   "source": [
    "idtype= np.dtype([('Name', 'S20'), ('Age', 'i1'), ('Marks', 'f4')])\n",
    "s=np.array([('Sagar', 24 , 50), ('Mayuri', 21 , 45)], dtype=idtype)\n",
    "print(s)"
   ]
  },
  {
   "cell_type": "code",
   "execution_count": 5,
   "metadata": {},
   "outputs": [
    {
     "name": "stdout",
     "output_type": "stream",
     "text": [
      "[[1 2]\n",
      " [3 4]\n",
      " [2 5]]\n"
     ]
    }
   ],
   "source": [
    "a= np.array([[1,2,3],[4,2,5]])\n",
    "a.shape=(3,2)\n",
    "print(a)"
   ]
  },
  {
   "cell_type": "code",
   "execution_count": 6,
   "metadata": {},
   "outputs": [
    {
     "name": "stdout",
     "output_type": "stream",
     "text": [
      "[[1 2]\n",
      " [3 4]\n",
      " [8 8]]\n"
     ]
    }
   ],
   "source": [
    "a= np.array([[1,2,3],[4,8,8]])\n",
    "b= a.reshape(3,2)\n",
    "print(b)"
   ]
  },
  {
   "cell_type": "code",
   "execution_count": 7,
   "metadata": {},
   "outputs": [
    {
     "name": "stdout",
     "output_type": "stream",
     "text": [
      "[[1 1 1 1]\n",
      " [1 1 1 1]\n",
      " [1 1 1 1]\n",
      " [1 1 1 1]\n",
      " [1 1 1 1]]\n"
     ]
    }
   ],
   "source": [
    "x=np.ones((5,4),dtype=int)\n",
    "print(x)"
   ]
  },
  {
   "cell_type": "code",
   "execution_count": null,
   "metadata": {},
   "outputs": [],
   "source": [
    "x=np.arange(30)\n",
    "y=slice(3,30,5)\n",
    "\n",
    "print(x[y])"
   ]
  },
  {
   "cell_type": "code",
   "execution_count": 8,
   "metadata": {},
   "outputs": [
    {
     "name": "stdout",
     "output_type": "stream",
     "text": [
      "[ 3  8 13 18 23 28]\n"
     ]
    }
   ],
   "source": [
    "x=np.arange(30)\n",
    "y=x[3:30:5]                   #(start, stop, end)\n",
    "\n",
    "print(y)"
   ]
  },
  {
   "cell_type": "code",
   "execution_count": 9,
   "metadata": {},
   "outputs": [
    {
     "name": "stdout",
     "output_type": "stream",
     "text": [
      "[ 5  6  7  8  9 10 11 12 13 14 15 16 17 18 19]\n"
     ]
    }
   ],
   "source": [
    "a=np.arange(20)\n",
    "print(a[5:])"
   ]
  },
  {
   "cell_type": "code",
   "execution_count": 10,
   "metadata": {},
   "outputs": [
    {
     "name": "stdout",
     "output_type": "stream",
     "text": [
      "[[1 2 3]\n",
      " [4 5 6]\n",
      " [7 8 9]]\n",
      "\t\n",
      "Slice 1st row\n",
      "[[4 5 6]\n",
      " [7 8 9]]\n"
     ]
    }
   ],
   "source": [
    "a= np.array([[1,2,3],[4,5,6],[7,8,9]])\n",
    "print(a)\n",
    "print('\\t')\n",
    "print(\"Slice 1st row\")\n",
    "print(a[1:])"
   ]
  },
  {
   "cell_type": "code",
   "execution_count": 11,
   "metadata": {},
   "outputs": [
    {
     "name": "stdout",
     "output_type": "stream",
     "text": [
      "our array is :\n",
      "[[1 2 3]\n",
      " [4 5 6]\n",
      " [7 8 9]]\n",
      "\t\n",
      "[2 5 8]\n",
      "\t\n",
      "[4 5 6]\n",
      "\t\n",
      "[[2 3]\n",
      " [5 6]\n",
      " [8 9]]\n"
     ]
    }
   ],
   "source": [
    "a= np.array([[1,2,3],[4,5,6],[7,8,9]])\n",
    "print('our array is :')\n",
    "print(a)\n",
    "print('\\t')\n",
    "\n",
    "print(a[...,1])\n",
    "print('\\t')\n",
    "\n",
    "print(a[1,...])\n",
    "print('\\t')\n",
    "\n",
    "print(a[...,1:])"
   ]
  },
  {
   "cell_type": "code",
   "execution_count": 12,
   "metadata": {},
   "outputs": [
    {
     "name": "stdout",
     "output_type": "stream",
     "text": [
      "[2 3 6]\n"
     ]
    }
   ],
   "source": [
    "x= np.array([[1,2],[3,4],[5,6]])\n",
    "y= x[[0,1,2],[1,0,1]]             #(0,1)(1,0)(2,1)\n",
    "print(y)"
   ]
  },
  {
   "cell_type": "code",
   "execution_count": 13,
   "metadata": {},
   "outputs": [
    {
     "name": "stdout",
     "output_type": "stream",
     "text": [
      "Our original Array is :\n",
      "[[1 2 3]\n",
      " [4 5 6]\n",
      " [6 7 8]\n",
      " [7 2 9]]\n",
      "\t\n",
      "the corner elements :\n",
      "[[1 3]\n",
      " [7 9]]\n"
     ]
    }
   ],
   "source": [
    "x= np.array([[1,2,3],[4,5,6],[6,7,8],[7,2,9]])\n",
    "print('Our original Array is :')\n",
    "print(x)\n",
    "print('\\t')\n",
    "\n",
    "rows=np.array([[0,0],[3,3]])\n",
    "cols=np.array([[0,2],[0,2]])\n",
    "y=x[rows,cols]  #(0,0)(0,2)(3,0)(3,2) [compare with r &c] #this step is imp bcz we have to merge rows and cols with input(x)\n",
    "print('the corner elements :')\n",
    "print(y)"
   ]
  },
  {
   "cell_type": "code",
   "execution_count": 14,
   "metadata": {},
   "outputs": [
    {
     "name": "stdout",
     "output_type": "stream",
     "text": [
      "Our array is:\n",
      "[[ 0  1  2]\n",
      " [ 3  4  5]\n",
      " [ 6  7  8]\n",
      " [ 9 10 11]]\n",
      "\n",
      "\n",
      "After slicing, our array becomes:\n",
      "[[ 4  5]\n",
      " [ 7  8]\n",
      " [10 11]]\n",
      "\n",
      "\n",
      "Slicing using advanced index for column\n",
      "[[ 4  5]\n",
      " [ 7  8]\n",
      " [10 11]]\n"
     ]
    }
   ],
   "source": [
    "x = np.array([[0,1,2],[3,4,5],[6,7,8],[9,10,11]])\n",
    "print('Our array is:')\n",
    "print(x)\n",
    "print('\\n')\n",
    "\n",
    "# slicing\n",
    "z = x[1:4,1:3]  #[row,col]\n",
    "print('After slicing, our array becomes:')\n",
    "print(z)\n",
    "print('\\n')\n",
    "# using advanced index for column \n",
    "y = x[1:4,[1,2]]\n",
    "print('Slicing using advanced index for column') \n",
    "print(y)"
   ]
  },
  {
   "cell_type": "code",
   "execution_count": null,
   "metadata": {},
   "outputs": [],
   "source": [
    "x = np.array([[ 0, 1, 2],[ 3, 4, 5],[ 6, 7, 8],[ 9, 10, 11]])\n",
    "print('Our array is:')\n",
    "print(x)\n",
    "print('\\n')\n",
    "\n",
    "# Now we will print the items greater than 5 print 'The items greater than 5 are:\n",
    "print('Number greater than 5')\n",
    "print (x[x>5])"
   ]
  },
  {
   "cell_type": "markdown",
   "metadata": {},
   "source": [
    "# PANDAS"
   ]
  },
  {
   "cell_type": "code",
   "execution_count": 15,
   "metadata": {},
   "outputs": [
    {
     "name": "stdout",
     "output_type": "stream",
     "text": [
      "0    s\n",
      "1    a\n",
      "2    g\n",
      "3    a\n",
      "4    r\n",
      "dtype: object\n"
     ]
    }
   ],
   "source": [
    "a= np.array(['s','a','g','a','r'])\n",
    "b= pd.Series(a)\n",
    "print(b)"
   ]
  },
  {
   "cell_type": "code",
   "execution_count": 16,
   "metadata": {},
   "outputs": [
    {
     "name": "stdout",
     "output_type": "stream",
     "text": [
      "s    NaN\n",
      "a    2.0\n",
      "g    NaN\n",
      "a    2.0\n",
      "r    NaN\n",
      "dtype: float64\n"
     ]
    }
   ],
   "source": [
    "a={'a': 2, 'b':3, 'c':4, 'd':5, 'e':6}\n",
    "b= pd.Series(a, index= ['s','a','g','a','r'])\n",
    "print(b)"
   ]
  },
  {
   "cell_type": "code",
   "execution_count": 17,
   "metadata": {},
   "outputs": [
    {
     "name": "stdout",
     "output_type": "stream",
     "text": [
      "s    1\n",
      "a    2\n",
      "g    3\n",
      "dtype: int64\n"
     ]
    }
   ],
   "source": [
    "s=pd.Series([1,2,3,4,5], index= ['s','a','g','a','r'])\n",
    "print(s[:3])"
   ]
  },
  {
   "cell_type": "code",
   "execution_count": 18,
   "metadata": {},
   "outputs": [
    {
     "name": "stdout",
     "output_type": "stream",
     "text": [
      "g    3\n",
      "a    4\n",
      "r    5\n",
      "dtype: int64\n"
     ]
    }
   ],
   "source": [
    "s=pd.Series([1,2,3,4,5], index= ['s','a','g','a','r'])\n",
    "print(s[-3:])"
   ]
  },
  {
   "cell_type": "code",
   "execution_count": 19,
   "metadata": {},
   "outputs": [
    {
     "name": "stdout",
     "output_type": "stream",
     "text": [
      "1\n"
     ]
    }
   ],
   "source": [
    "s=pd.Series([1,2,3,4,5],index=['a','b','c','d','e'])\n",
    "#retrieve a single element\n",
    "print (s['a'])"
   ]
  },
  {
   "cell_type": "code",
   "execution_count": 20,
   "metadata": {},
   "outputs": [
    {
     "name": "stdout",
     "output_type": "stream",
     "text": [
      "a    1\n",
      "c    3\n",
      "e    5\n",
      "dtype: int64\n"
     ]
    }
   ],
   "source": [
    "s=pd.Series([1,2,3,4,5],index=['a','b','c','d','e'])\n",
    "#retrieve multiple elements\n",
    "print (s[['a','c','e']])"
   ]
  },
  {
   "cell_type": "code",
   "execution_count": null,
   "metadata": {},
   "outputs": [],
   "source": [
    "####DataFrame#####"
   ]
  },
  {
   "cell_type": "code",
   "execution_count": 21,
   "metadata": {},
   "outputs": [
    {
     "name": "stdout",
     "output_type": "stream",
     "text": [
      "   0\n",
      "0  1\n",
      "1  2\n",
      "2  3\n",
      "3  4\n",
      "4  5\n",
      "5  6\n"
     ]
    }
   ],
   "source": [
    "data= [1,2,3,4,5,6]\n",
    "s= pd.DataFrame(data)\n",
    "print(s)"
   ]
  },
  {
   "cell_type": "code",
   "execution_count": 22,
   "metadata": {},
   "outputs": [
    {
     "name": "stdout",
     "output_type": "stream",
     "text": [
      "0    1\n",
      "1    2\n",
      "2    3\n",
      "3    4\n",
      "4    5\n",
      "5    6\n",
      "dtype: int64\n"
     ]
    }
   ],
   "source": [
    "data= [1,2,3,4,5,6]\n",
    "s= pd.Series(data)\n",
    "print(s)"
   ]
  },
  {
   "cell_type": "code",
   "execution_count": 23,
   "metadata": {},
   "outputs": [
    {
     "name": "stdout",
     "output_type": "stream",
     "text": [
      "     Name   Age City\n",
      "0   Sagar  24.0  Amt\n",
      "1  Mayuri  20.0  Amt\n",
      "2   Tejas  21.0  Nag\n"
     ]
    }
   ],
   "source": [
    "data= [['Sagar', 24, 'Amt'],['Mayuri', 20, 'Amt'], ['Tejas',21, 'Nag']]\n",
    "s= pd.DataFrame(data,columns=['Name','Age','City'],dtype=float)    #columns   [s is imp]\n",
    "print(s)"
   ]
  },
  {
   "cell_type": "code",
   "execution_count": 24,
   "metadata": {},
   "outputs": [
    {
     "name": "stdout",
     "output_type": "stream",
     "text": [
      "     Name  Age    City\n",
      "0   Sagar   20     Amt\n",
      "1  Mayuri   13  Nagpur\n",
      "2  Vishal    5     Amt\n"
     ]
    }
   ],
   "source": [
    "data={'Name':['Sagar','Mayuri','Vishal'], 'Age':[20,13,5], 'City':['Amt', 'Nagpur', 'Amt']} #{}braket is imp\n",
    "s= pd.DataFrame(data)\n",
    "print(s)"
   ]
  },
  {
   "cell_type": "code",
   "execution_count": 25,
   "metadata": {},
   "outputs": [
    {
     "name": "stdout",
     "output_type": "stream",
     "text": [
      "         Name  Age    City\n",
      "Rank1   Sagar   20     Amt\n",
      "Rank2  Mayuri   13  Nagpur\n",
      "Rank3  Vishal    5     Amt\n"
     ]
    }
   ],
   "source": [
    "data={'Name':['Sagar','Mayuri','Vishal'], 'Age':[20,13,5], 'City':['Amt', 'Nagpur', 'Amt']}\n",
    "s= pd.DataFrame(data, index=['Rank1','Rank2','Rank3'])\n",
    "print(s)"
   ]
  },
  {
   "cell_type": "raw",
   "metadata": {},
   "source": [
    "################################### IMPORTANT ###################################"
   ]
  },
  {
   "cell_type": "code",
   "execution_count": 26,
   "metadata": {},
   "outputs": [
    {
     "name": "stdout",
     "output_type": "stream",
     "text": [
      "        a  b    c\n",
      "First   1  2  NaN\n",
      "Second  3  4  5.0\n"
     ]
    }
   ],
   "source": [
    "a=[{'a':1,'b':2},{'a':3, 'b':4, 'c':5}]  #a=1,3 b=2,4 c=NaN,5\n",
    "b= pd.DataFrame(a,index=['First', 'Second'])\n",
    "print(b)"
   ]
  },
  {
   "cell_type": "code",
   "execution_count": 27,
   "metadata": {},
   "outputs": [
    {
     "name": "stdout",
     "output_type": "stream",
     "text": [
      "    Name  Marks Subject\n",
      "0  Sagar    NaN     NaN\n",
      "1    NaN   20.0     NaN\n",
      "2    NaN    NaN   Maths\n"
     ]
    }
   ],
   "source": [
    "a=[{'Name': 'Sagar',},{'Marks': 20},{'Subject': 'Maths'}]\n",
    "b= pd.DataFrame(a)\n",
    "print(b)"
   ]
  },
  {
   "cell_type": "raw",
   "metadata": {},
   "source": [
    "################################  IMPORTANT  ################################"
   ]
  },
  {
   "cell_type": "code",
   "execution_count": 28,
   "metadata": {},
   "outputs": [
    {
     "name": "stdout",
     "output_type": "stream",
     "text": [
      "              Name  Age Subjects  Marks\n",
      "Serial 1     Sagar   24    Maths     80\n",
      "Serial 2    Mayuri   20  Science     89\n",
      "Serial 3  Shraddha   25  English     95\n",
      "Serial4       Yoyo   23  Physics     98\n"
     ]
    }
   ],
   "source": [
    "a={'Name':['Sagar','Mayuri','Shraddha', 'Yoyo'], 'Age':[24,20,25,23], 'Subjects':['Maths','Science', 'English', 'Physics'], 'Marks':[80,89,95,98]}\n",
    "b=pd.DataFrame(a,index=['Serial 1', 'Serial 2', 'Serial 3', 'Serial4'])\n",
    "print(b)"
   ]
  },
  {
   "cell_type": "raw",
   "metadata": {},
   "source": [
    "#################################  IMPORTANT  ########################################"
   ]
  },
  {
   "cell_type": "code",
   "execution_count": null,
   "metadata": {},
   "outputs": [],
   "source": [
    "a= {'one': pd.Series([1,2,3], index=['a','b','c']), 'two': pd.Series([1,2,3,4], index=['y','a','s','h'])}\n",
    "b=pd.DataFrame(a)\n",
    "print(b)\n",
    "print('\\t')\n",
    "#Adding new column\n",
    "\n",
    "print('Adding new column :')\n",
    "b['three']= pd.Series([10,20,30,40], index=['a','b','c','d'])\n",
    "print(b)\n",
    "print('\\t')\n",
    "\n",
    "#Adding new column with existing column\n",
    "print('Adding new column 2:')\n",
    "b['four']=b['one']+ b['three']\n",
    "print(b)\n",
    "print('\\n')\n",
    "\n",
    "# using del function\n",
    "print (\"Deletingthe first column using DEL function:\")\n",
    "del b['one']\n",
    "print (b)\n",
    "print('\\t')\n",
    "\n",
    "# using pop function\n",
    "print (\"Deletinganother column using POP function:\")\n",
    "b.pop('two')\n",
    "print (b)"
   ]
  },
  {
   "cell_type": "code",
   "execution_count": 6,
   "metadata": {},
   "outputs": [
    {
     "name": "stdout",
     "output_type": "stream",
     "text": [
      "one    1.0\n",
      "two    2.0\n",
      "Name: a, dtype: float64\n"
     ]
    }
   ],
   "source": [
    "a= {'one': pd.Series([1,8,3], index=['a','b','c']), 'two': pd.Series([1,2,3,4], index=['y','a','s','h'])}\n",
    "b= pd.DataFrame(a)\n",
    "print(b.loc['a'])\n"
   ]
  },
  {
   "cell_type": "code",
   "execution_count": 14,
   "metadata": {},
   "outputs": [
    {
     "name": "stdout",
     "output_type": "stream",
     "text": [
      "one    8.0\n",
      "two    2.0\n",
      "Name: b, dtype: float64\n"
     ]
    }
   ],
   "source": [
    "a= {'one': pd.Series([1,8,3], index=['a','b','c']), 'two': pd.Series([1,2,3,4], index=['a','b','c','d'])} #index=() values same*\n",
    "c= pd.DataFrame(a)\n",
    "print(c.iloc[1])\n"
   ]
  },
  {
   "cell_type": "code",
   "execution_count": 13,
   "metadata": {},
   "outputs": [
    {
     "name": "stdout",
     "output_type": "stream",
     "text": [
      "one    6.0\n",
      "two    5.0\n",
      "Name: b, dtype: float64\n"
     ]
    }
   ],
   "source": [
    "d = {'one' : pd.Series([1,6,3], index=['a','b','c']), 'two' : pd.Series([1,5,3,4], index=['a','b','c','d'])}\n",
    "df = pd.DataFrame(d)\n",
    "print (df.iloc[1])          #indexing(0,1,2)"
   ]
  },
  {
   "cell_type": "code",
   "execution_count": 17,
   "metadata": {},
   "outputs": [
    {
     "name": "stdout",
     "output_type": "stream",
     "text": [
      "   a  b\n",
      "0  1  2\n",
      "1  3  4\n",
      "   a  b\n",
      "0  5  6\n",
      "1  7  8\n",
      "\t\n",
      "merge\n",
      "   a  b\n",
      "0  1  2\n",
      "1  3  4\n",
      "0  5  6\n",
      "1  7  8\n"
     ]
    }
   ],
   "source": [
    "a= pd.DataFrame([[1,2],[3,4]], columns=['a','b'])\n",
    "b= pd.DataFrame([[5,6],[7,8]], columns=['a','b'])\n",
    "print(a)\n",
    "print(b)\n",
    "print('\\t')\n",
    "print('merge')\n",
    "c=a.append(b)\n",
    "print(c)"
   ]
  },
  {
   "cell_type": "raw",
   "metadata": {},
   "source": [
    "###################### CHAPTER 7  #############3"
   ]
  },
  {
   "cell_type": "code",
   "execution_count": 28,
   "metadata": {},
   "outputs": [
    {
     "name": "stdout",
     "output_type": "stream",
     "text": [
      "0   -1.368307\n",
      "1    0.049143\n",
      "2    1.105786\n",
      "3   -1.471672\n",
      "4   -0.436449\n",
      "dtype: float64\n",
      "\t\n",
      "The axes are :\n",
      "[RangeIndex(start=0, stop=5, step=1)]\n",
      "\t\n",
      "Is it empty\n",
      "False\n",
      "\t\n",
      "The dimension is : 1\n",
      "\t\n",
      "Size of object : 5\n",
      "\t\n",
      "The actual data series is :\n",
      "[-1.36830725  0.04914293  1.10578578 -1.47167229 -0.43644917]\n",
      "The first two rows of the data series:\n",
      "0   -1.368307\n",
      "1    0.049143\n",
      "dtype: float64\n",
      "The last two rows of the data series:\n",
      "3   -1.471672\n",
      "4   -0.436449\n",
      "dtype: float64\n"
     ]
    }
   ],
   "source": [
    "s= pd.Series(np.random.randn(5))\n",
    "print(s)\n",
    "print('\\t')\n",
    "\n",
    "print('The axes are :')\n",
    "print(s.axes)\n",
    "print('\\t')\n",
    "\n",
    "print('Is it empty')\n",
    "print(s.empty)\n",
    "print('\\t')\n",
    "\n",
    "print('The dimension is :', s.ndim)\n",
    "print('\\t')\n",
    "\n",
    "print('Size of object :', s.size)\n",
    "print('\\t')\n",
    "\n",
    "print('The actual data series is :')\n",
    "print(s.values)\n",
    "\n",
    "print (\"The first two rows of the data series:\")\n",
    "print (s.head(2))\n",
    "print('\\t')\n",
    "\n",
    "print (\"The last two rows of the data series:\")\n",
    "print (s.tail(2))\n",
    "print('\\t')"
   ]
  },
  {
   "cell_type": "raw",
   "metadata": {},
   "source": [
    "#####################  Important  #########################"
   ]
  },
  {
   "cell_type": "code",
   "execution_count": 8,
   "metadata": {},
   "outputs": [
    {
     "name": "stdout",
     "output_type": "stream",
     "text": [
      "OUR DATA IS HERE : \n",
      "       Name  Age  Rating  Location\n",
      "0     Sagar   24     9.9  Amravati\n",
      "1     Rajat   27     5.5     Arjun\n",
      "2    Aniket   24     4.8      Pune\n",
      "3  Vaishnav   25     9.4    Nagpur\n",
      "4     Kapil   29     5.6  Pakistan\n",
      "\t\n",
      "The transpose of the data series is:\n",
      "                 0      1       2         3         4\n",
      "Name         Sagar  Rajat  Aniket  Vaishnav     Kapil\n",
      "Age             24     27      24        25        29\n",
      "Rating         9.9    5.5     4.8       9.4       5.6\n",
      "Location  Amravati  Arjun    Pune    Nagpur  Pakistan\n",
      "\t\n",
      "Row axis labels and column axis labels are:\n",
      "[RangeIndex(start=0, stop=5, step=1), Index(['Name', 'Age', 'Rating', 'Location'], dtype='object')]\n"
     ]
    }
   ],
   "source": [
    "#creating dictionary for SERIES\n",
    "a = {'Name':pd.Series(['Sagar', 'Rajat', 'Aniket', 'Vaishnav', 'Kapil']), 'Age':pd.Series([24,27,24,25,29]), \n",
    "     'Rating':pd.Series([9.9,5.5,4.8,9.4,5.6]), 'Location':pd.Series(['Amravati','Arjun', 'Pune','Nagpur','Pakistan'])}\n",
    "\n",
    "#Creating Dataframe\n",
    "df=pd.DataFrame(a)\n",
    "print('OUR DATA IS HERE : ')\n",
    "print(df)\n",
    "print('\\t')\n",
    "\n",
    "print (\"The transpose of the data series is:\")\n",
    "print (df.T)\n",
    "print('\\t')\n",
    "\n",
    "print (\"Row axis labels and column axis labels are:\")\n",
    "print (df.axes)\n",
    "\n",
    "#repeat as mentioned above."
   ]
  },
  {
   "cell_type": "code",
   "execution_count": 15,
   "metadata": {},
   "outputs": [
    {
     "name": "stdout",
     "output_type": "stream",
     "text": [
      "OUR DATA IS HERE : \n",
      "       Name  Age  Rating  Location\n",
      "0     Sagar   24     9.9  Amravati\n",
      "1     Rajat   27     5.5     Arjun\n",
      "2    Aniket   24     4.8      Pune\n",
      "3  Vaishnav   25     9.4    Nagpur\n",
      "4     Kapil   29     5.6  Pakistan\n",
      "\t\n",
      "Name          SagarRajatAniketVaishnavKapil\n",
      "Age                                     129\n",
      "Rating                                 35.2\n",
      "Location    AmravatiArjunPuneNagpurPakistan\n",
      "dtype: object\n",
      "\t\n",
      "0    33.9\n",
      "1    32.5\n",
      "2    28.8\n",
      "3    34.4\n",
      "4    34.6\n",
      "dtype: float64\n",
      "\t\n",
      "Mean of DataFrame\n",
      "Age       25.80\n",
      "Rating     7.04\n",
      "dtype: float64\n",
      "\t\n",
      "standard deviation of numerical column\n",
      "Age       2.167948\n",
      "Rating    2.408942\n",
      "dtype: float64\n",
      "\t\n",
      "             Age    Rating\n",
      "count   5.000000  5.000000\n",
      "mean   25.800000  7.040000\n",
      "std     2.167948  2.408942\n",
      "min    24.000000  4.800000\n",
      "25%    24.000000  5.500000\n",
      "50%    25.000000  5.600000\n",
      "75%    27.000000  9.400000\n",
      "max    29.000000  9.900000\n",
      "\t\n",
      "         Name  Location\n",
      "count       5         5\n",
      "unique      5         5\n",
      "top     Kapil  Amravati\n",
      "freq        1         1\n",
      "\t\n",
      "         Name        Age    Rating  Location\n",
      "count       5   5.000000  5.000000         5\n",
      "unique      5        NaN       NaN         5\n",
      "top     Kapil        NaN       NaN  Amravati\n",
      "freq        1        NaN       NaN         1\n",
      "mean      NaN  25.800000  7.040000       NaN\n",
      "std       NaN   2.167948  2.408942       NaN\n",
      "min       NaN  24.000000  4.800000       NaN\n",
      "25%       NaN  24.000000  5.500000       NaN\n",
      "50%       NaN  25.000000  5.600000       NaN\n",
      "75%       NaN  27.000000  9.400000       NaN\n",
      "max       NaN  29.000000  9.900000       NaN\n"
     ]
    }
   ],
   "source": [
    "a = {'Name':pd.Series(['Sagar', 'Rajat', 'Aniket', 'Vaishnav', 'Kapil']), 'Age':pd.Series([24,27,24,25,29]), \n",
    "     'Rating':pd.Series([9.9,5.5,4.8,9.4,5.6]), 'Location':pd.Series(['Amravati','Arjun', 'Pune','Nagpur','Pakistan'])}\n",
    "\n",
    "#Creating Dataframe\n",
    "df=pd.DataFrame(a)\n",
    "print('OUR DATA IS HERE : ')\n",
    "print(df)\n",
    "print('\\t')\n",
    "\n",
    "print (df.sum())               #it will add all row (axis=0) \n",
    "print('\\t')\n",
    "\n",
    "print (df.sum(1))              #it will add Age+Rating \n",
    "print('\\t')\n",
    "\n",
    "print('Mean of DataFrame')\n",
    "print (df.mean())\n",
    "print('\\t')\n",
    "\n",
    "print('standard deviation of numerical column')\n",
    "print (df.std())\n",
    "print('\\t')\n",
    "\n",
    "print (df.describe())\n",
    "print('\\t')\n",
    "\n",
    "print (df.describe(include=['object']))\n",
    "print('\\t')\n",
    "\n",
    "print (df. describe(include='all'))"
   ]
  },
  {
   "cell_type": "code",
   "execution_count": 25,
   "metadata": {},
   "outputs": [
    {
     "name": "stdout",
     "output_type": "stream",
     "text": [
      "         c1        c2        c3\n",
      "0  3.551632  2.682398  2.872540\n",
      "1  2.038109  1.278622  1.054977\n",
      "2  0.856306  0.982943  2.282238\n",
      "3  3.747750  2.442255  1.965066\n",
      "4  0.894355  2.699391  2.042753\n",
      "\t\n",
      "c1    0.217630\n",
      "c2    0.017122\n",
      "c3    0.043515\n",
      "dtype: float64\n",
      "\t\n",
      "0    1.035523\n",
      "1   -0.542764\n",
      "2   -0.626171\n",
      "3    0.718357\n",
      "4   -0.121167\n",
      "dtype: float64\n",
      "\t\n",
      "c1    2.891443\n",
      "c2    1.716448\n",
      "c3    1.817564\n",
      "dtype: float64\n",
      "\t\n",
      "           c1          c2         c3\n",
      "0  155.163152   68.239811  87.254042\n",
      "1    3.810877  -72.137785 -94.502335\n",
      "2 -114.369366 -101.705705  28.223839\n",
      "3  174.774973   44.225475  -3.493387\n",
      "4 -110.564461   69.939092   4.275343\n",
      "\t\n"
     ]
    }
   ],
   "source": [
    "def sagar(x,y):\n",
    "    return x+y\n",
    "df=pd.DataFrame(np.random.randn(5,3), columns=['c1','c2','c3'])  #randn(5,3) give 5rows and 3 columns\n",
    "a=df.pipe(sagar,2)  #(function,parameter)assing the function and the appropriate number of parameters as pipe arguments.\n",
    "print(a)\n",
    "print('\\t')\n",
    "\n",
    "a=df.apply(np.mean)\n",
    "print (a)\n",
    "print('\\t')\n",
    "\n",
    "a=df.apply(np.mean,axis=1)\n",
    "print (a)\n",
    "print('\\t')\n",
    "\n",
    "a=df.apply(lambda x: x.max() - x.min())\n",
    "print (a)\n",
    "print('\\t')\n",
    "\n",
    "a=df.applymap(lambda x:x*100)\n",
    "print(a)\n",
    "print('\\t')"
   ]
  },
  {
   "cell_type": "code",
   "execution_count": 28,
   "metadata": {},
   "outputs": [
    {
     "name": "stdout",
     "output_type": "stream",
     "text": [
      "          a         b         c\n",
      "0  0.442441 -0.086740 -1.763269\n",
      "1 -0.430243  1.832548  1.114925\n",
      "2  0.841238 -0.218636 -0.215747\n",
      "3 -0.209066  0.896536  2.433826\n"
     ]
    }
   ],
   "source": [
    "a= pd.DataFrame(np.random.randn(10,3), columns=['a','b','c'])\n",
    "b= pd.DataFrame(np.random.randn(4,3), columns=['a','b','c'])     #it gives 4 rows and 3 columns\n",
    "df=a.reindex_like(b)\n",
    "print(df)"
   ]
  },
  {
   "cell_type": "code",
   "execution_count": 30,
   "metadata": {},
   "outputs": [
    {
     "name": "stdout",
     "output_type": "stream",
     "text": [
      "       col1      col2      col3\n",
      "0 -0.450933 -0.372429  0.843557\n",
      "1 -0.690397 -0.563992  0.168681\n",
      "2       NaN       NaN       NaN\n",
      "3       NaN       NaN       NaN\n",
      "4       NaN       NaN       NaN\n",
      "5       NaN       NaN       NaN\n",
      "\t\n",
      "Data Frame with forward fill\n",
      "       col1      col2      col3\n",
      "0 -0.450933 -0.372429  0.843557\n",
      "1 -0.690397 -0.563992  0.168681\n",
      "2 -0.690397 -0.563992  0.168681\n",
      "3 -0.690397 -0.563992  0.168681\n",
      "4 -0.690397 -0.563992  0.168681\n",
      "5 -0.690397 -0.563992  0.168681\n",
      "\t\n",
      "Data Frame with Forward Fill limiting to 1:\n",
      "       col1      col2      col3\n",
      "0 -0.450933 -0.372429  0.843557\n",
      "1 -0.690397 -0.563992  0.168681\n",
      "2 -0.690397 -0.563992  0.168681\n",
      "3       NaN       NaN       NaN\n",
      "4       NaN       NaN       NaN\n",
      "5       NaN       NaN       NaN\n"
     ]
    }
   ],
   "source": [
    "df1=pd.DataFrame(np.random.randn(6,3),columns=['col1','col2','col3'])\n",
    "df2=pd.DataFrame(np.random.randn(2,3),columns=['col1','col2','col3'])\n",
    "print(df2.reindex_like(df1))\n",
    "print('\\t')\n",
    "\n",
    "print('Data Frame with forward fill')\n",
    "print(df2.reindex_like(df1, method='ffill'))\n",
    "print('\\t')\n",
    "\n",
    "print (\"Data Frame with Forward Fill limiting to 1:\")\n",
    "print (df2.reindex_like(df1,method='ffill',limit=1))"
   ]
  },
  {
   "cell_type": "code",
   "execution_count": 31,
   "metadata": {},
   "outputs": [
    {
     "name": "stdout",
     "output_type": "stream",
     "text": [
      "         c1        c2        c3\n",
      "0 -1.316958 -0.505094  0.145460\n",
      "1  1.490915  1.070622 -0.028969\n",
      "2  0.207632 -0.234829 -0.330135\n",
      "3  0.845519  0.489536 -0.614570\n",
      "4  0.034487  0.582408 -0.539299\n",
      "5  0.184485  0.170348  0.590394\n",
      "After renaming row and columns\n",
      "                col1      col2        c3\n",
      "Sagar      -1.316958 -0.505094  0.145460\n",
      "Mulchand    1.490915  1.070622 -0.028969\n",
      "Bhamburkar  0.207632 -0.234829 -0.330135\n",
      "3           0.845519  0.489536 -0.614570\n",
      "4           0.034487  0.582408 -0.539299\n",
      "5           0.184485  0.170348  0.590394\n"
     ]
    }
   ],
   "source": [
    "df1=pd.DataFrame(np.random.randn(6,3), columns=['c1','c2','c3'])\n",
    "print(df1)\n",
    "print('After renaming row and columns')\n",
    "print(df1.rename(columns={'c1':'col1', 'c2':'col2'}, index={0:'Sagar', 1:'Mulchand', 2:'Bhamburkar'}))"
   ]
  },
  {
   "cell_type": "code",
   "execution_count": null,
   "metadata": {},
   "outputs": [],
   "source": []
  }
 ],
 "metadata": {
  "kernelspec": {
   "display_name": "Python 3",
   "language": "python",
   "name": "python3"
  },
  "language_info": {
   "codemirror_mode": {
    "name": "ipython",
    "version": 3
   },
   "file_extension": ".py",
   "mimetype": "text/x-python",
   "name": "python",
   "nbconvert_exporter": "python",
   "pygments_lexer": "ipython3",
   "version": "3.7.7"
  }
 },
 "nbformat": 4,
 "nbformat_minor": 4
}
